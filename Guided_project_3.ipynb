{
  "cells": [
    {
      "cell_type": "markdown",
      "metadata": {
        "id": "view-in-github",
        "colab_type": "text"
      },
      "source": [
        "<a href=\"https://colab.research.google.com/github/selenkaptanoglu/machine_learning/blob/main/Guided_project_3.ipynb\" target=\"_parent\"><img src=\"https://colab.research.google.com/assets/colab-badge.svg\" alt=\"Open In Colab\"/></a>"
      ]
    },
    {
      "cell_type": "markdown",
      "metadata": {
        "id": "15177c1c"
      },
      "source": [
        "#Chapter 3: Data cleaning exercise\n",
        "\n",
        "### Sales department performance analysis\n",
        "\n",
        "The HR department wants to analyze the performance of the employees in the sales department.\n",
        "\n",
        "### Data Reading\n",
        "Rachel wrote a text file employee_revenue.txt including all necessary information, but she needs help to extract the necessary information.\n",
        "\n",
        "Start by uploading the employee_revenue file to the working directory.\n",
        "\n",
        "📌 Use the .read() method to open the text file in read mode and assign it to the variable \"data\".\n"
      ],
      "id": "15177c1c"
    },
    {
      "cell_type": "code",
      "execution_count": 41,
      "metadata": {
        "id": "da79a8da"
      },
      "outputs": [],
      "source": [
        "#Open the file in read mode\n",
        "file=open(\"/content/employee_revenue.txt\",\"r\")\n",
        "data=file.read()"
      ],
      "id": "da79a8da"
    },
    {
      "cell_type": "code",
      "execution_count": 42,
      "metadata": {
        "id": "75a5de52",
        "colab": {
          "base_uri": "https://localhost:8080/"
        },
        "outputId": "21bab713-a410-4663-b0a9-e3d1c45303ee"
      },
      "outputs": [
        {
          "output_type": "stream",
          "name": "stdout",
          "text": [
            "  Ben made 300 calls and generated 2400 dollars last Month with an 8$ average deal size.  \n",
            "omer called 10 times and Sold 2 courses generated 60 dollars last month with a 6$ average deal size.\n",
            "   KAren called 500 people and achieved success by GETting 24$ average deal size, got 12000 dollars revenue.     \n",
            "Celine with 70 calls, made 2275 dollars and 32$ average deal size IN the previous month.  \n",
            "     Sue called 100 people and earned 500 Dollars in REvenue and an AVERAGE DEAL SIZE of 5$ Last month.\n",
            "Bora called 100 people generated 770 dollars last month, his average deal size was 25$.  \n",
            "Rose made 600 phone calls and GENERATING 4000 dollars a past month 25$ average deal SIZE. \n",
            "Ellen made 800 calls and generated 6000 dollars a prior mONTH and reached 40$ the average deal size. \n",
            " bob made 200 phone calls, helped to make a proGress and generated 800 dollars LAST MONTH and gaining 15$ average deal size.\n",
            "Taylor, with 450 calls generated 1200 dollars in revenue pASt month, and the average deal size was 10$. \n",
            "  JuDE made 80 calls and earned 500 dollars for the company last month, her average deal size was 12$.\n"
          ]
        }
      ],
      "source": [
        "#Print the data\n",
        "print(data)"
      ],
      "id": "75a5de52"
    },
    {
      "cell_type": "markdown",
      "metadata": {
        "id": "33d4f7ef"
      },
      "source": [
        "### Data Cleaning\n",
        "\n",
        "You can see that the data needs to be cleaned and information has to be extracted from these lines.\n",
        "\n",
        "To be able to clean the data, you need to separate the text into lines.\n",
        "\n",
        "📌 Use the .splitlines() method."
      ],
      "id": "33d4f7ef"
    },
    {
      "cell_type": "code",
      "execution_count": 43,
      "metadata": {
        "id": "9a1a651d",
        "colab": {
          "base_uri": "https://localhost:8080/"
        },
        "outputId": "1ba54640-a946-4128-b0f8-abe62d10c722"
      },
      "outputs": [
        {
          "output_type": "stream",
          "name": "stdout",
          "text": [
            "['  Ben made 300 calls and generated 2400 dollars last Month with an 8$ average deal size.  ', 'omer called 10 times and Sold 2 courses generated 60 dollars last month with a 6$ average deal size.', '   KAren called 500 people and achieved success by GETting 24$ average deal size, got 12000 dollars revenue.     ', 'Celine with 70 calls, made 2275 dollars and 32$ average deal size IN the previous month.  ', '     Sue called 100 people and earned 500 Dollars in REvenue and an AVERAGE DEAL SIZE of 5$ Last month.', 'Bora called 100 people generated 770 dollars last month, his average deal size was 25$.  ', 'Rose made 600 phone calls and GENERATING 4000 dollars a past month 25$ average deal SIZE. ', 'Ellen made 800 calls and generated 6000 dollars a prior mONTH and reached 40$ the average deal size. ', ' bob made 200 phone calls, helped to make a proGress and generated 800 dollars LAST MONTH and gaining 15$ average deal size.', 'Taylor, with 450 calls generated 1200 dollars in revenue pASt month, and the average deal size was 10$. ', '  JuDE made 80 calls and earned 500 dollars for the company last month, her average deal size was 12$.']\n"
          ]
        }
      ],
      "source": [
        "#Seperate the data into lines\n",
        "lines=data.splitlines()\n",
        "print(lines)"
      ],
      "id": "9a1a651d"
    },
    {
      "cell_type": "markdown",
      "metadata": {
        "id": "CKkeig2poz7w"
      },
      "source": [
        "### Clean the data line by line\n",
        "\n",
        "Start to clean the data for the first line.\n",
        "\n",
        "📌 Use the .strip() method to remove the whitespaces from the edges of the string."
      ],
      "id": "CKkeig2poz7w"
    },
    {
      "cell_type": "code",
      "execution_count": 44,
      "metadata": {
        "id": "2332622c",
        "colab": {
          "base_uri": "https://localhost:8080/"
        },
        "outputId": "394c75c9-dcff-4fe4-ab5f-52a76a6d8c6e"
      },
      "outputs": [
        {
          "output_type": "stream",
          "name": "stdout",
          "text": [
            "  Ben made 300 calls and generated 2400 dollars last Month with an 8$ average deal size.  \n"
          ]
        }
      ],
      "source": [
        "#Take the first line\n",
        "string=lines[0]\n",
        "print(string)"
      ],
      "id": "2332622c"
    },
    {
      "cell_type": "code",
      "execution_count": 45,
      "metadata": {
        "id": "26219c0d",
        "colab": {
          "base_uri": "https://localhost:8080/"
        },
        "outputId": "fb64fb87-43fe-4b3d-d034-59444d88dec4"
      },
      "outputs": [
        {
          "output_type": "stream",
          "name": "stdout",
          "text": [
            "Ben made 300 calls and generated 2400 dollars last Month with an 8$ average deal size.\n"
          ]
        }
      ],
      "source": [
        "#Remove the whitespaces from the edges\n",
        "string=string.strip(\" \")\n",
        "print(string)"
      ],
      "id": "26219c0d"
    },
    {
      "cell_type": "markdown",
      "metadata": {
        "id": "ed90bfc6"
      },
      "source": [
        "Next, you need to fix the capitalization issues.\n",
        "\n",
        "📌 Use the .lower() method to convert the text to lowercase.\n",
        "\n",
        "📌 Then use the .capitalize() method to capitalize the first letter."
      ],
      "id": "ed90bfc6"
    },
    {
      "cell_type": "code",
      "execution_count": 46,
      "metadata": {
        "id": "ef8bca74",
        "colab": {
          "base_uri": "https://localhost:8080/",
          "height": 35
        },
        "outputId": "6e16748a-05f1-4e13-e9a7-b9dad1124794"
      },
      "outputs": [
        {
          "output_type": "execute_result",
          "data": {
            "text/plain": [
              "'ben made 300 calls and generated 2400 dollars last month with an 8$ average deal size.'"
            ],
            "application/vnd.google.colaboratory.intrinsic+json": {
              "type": "string"
            }
          },
          "metadata": {},
          "execution_count": 46
        }
      ],
      "source": [
        "#Convert the string to lowercase\n",
        "string=string.lower()\n",
        "string"
      ],
      "id": "ef8bca74"
    },
    {
      "cell_type": "code",
      "execution_count": 47,
      "metadata": {
        "id": "d4be9443",
        "colab": {
          "base_uri": "https://localhost:8080/",
          "height": 35
        },
        "outputId": "42a7444e-4d36-4eef-8e6a-d9a105af99a8"
      },
      "outputs": [
        {
          "output_type": "execute_result",
          "data": {
            "text/plain": [
              "'Ben made 300 calls and generated 2400 dollars last month with an 8$ average deal size.'"
            ],
            "application/vnd.google.colaboratory.intrinsic+json": {
              "type": "string"
            }
          },
          "metadata": {},
          "execution_count": 47
        }
      ],
      "source": [
        "#Capitalize the first character\n",
        "string=string.capitalize()\n",
        "string"
      ],
      "id": "d4be9443"
    },
    {
      "cell_type": "markdown",
      "metadata": {
        "id": "f89b01c4"
      },
      "source": [
        "### Information Extraction\n",
        "\n",
        "To extract the information, you need to split the sentence into words.\n",
        "\n",
        "📌 Use the .split() method.\n"
      ],
      "id": "f89b01c4"
    },
    {
      "cell_type": "code",
      "execution_count": 48,
      "metadata": {
        "id": "04ede2fd",
        "colab": {
          "base_uri": "https://localhost:8080/"
        },
        "outputId": "19dc8af8-8243-4a5a-d512-b81e45135467"
      },
      "outputs": [
        {
          "output_type": "execute_result",
          "data": {
            "text/plain": [
              "['Ben',\n",
              " 'made',\n",
              " '300',\n",
              " 'calls',\n",
              " 'and',\n",
              " 'generated',\n",
              " '2400',\n",
              " 'dollars',\n",
              " 'last',\n",
              " 'month',\n",
              " 'with',\n",
              " 'an',\n",
              " '8$',\n",
              " 'average',\n",
              " 'deal',\n",
              " 'size.']"
            ]
          },
          "metadata": {},
          "execution_count": 48
        }
      ],
      "source": [
        "#Split the sentece into words\n",
        "split_string=string.split(\" \")\n",
        "split_string"
      ],
      "id": "04ede2fd"
    },
    {
      "cell_type": "markdown",
      "metadata": {
        "id": "9138eb5b"
      },
      "source": [
        "You might noticed that the first element in the list is the name and the third element is the number of calls.\n",
        "\n",
        "📌 Use the indeces to extract the name and number of calls."
      ],
      "id": "9138eb5b"
    },
    {
      "cell_type": "code",
      "execution_count": 49,
      "metadata": {
        "id": "897c59e5",
        "colab": {
          "base_uri": "https://localhost:8080/",
          "height": 35
        },
        "outputId": "91d5e7c7-e75f-4198-c7b3-f581f0c36d65"
      },
      "outputs": [
        {
          "output_type": "execute_result",
          "data": {
            "text/plain": [
              "'Ben'"
            ],
            "application/vnd.google.colaboratory.intrinsic+json": {
              "type": "string"
            }
          },
          "metadata": {},
          "execution_count": 49
        }
      ],
      "source": [
        "#Use the index 0 to access the name element\n",
        "name=split_string[0]\n",
        "name"
      ],
      "id": "897c59e5"
    },
    {
      "cell_type": "code",
      "execution_count": 50,
      "metadata": {
        "id": "98103332",
        "colab": {
          "base_uri": "https://localhost:8080/",
          "height": 35
        },
        "outputId": "7d3243fe-67ed-41f5-e31b-641d810a1ade"
      },
      "outputs": [
        {
          "output_type": "execute_result",
          "data": {
            "text/plain": [
              "'300'"
            ],
            "application/vnd.google.colaboratory.intrinsic+json": {
              "type": "string"
            }
          },
          "metadata": {},
          "execution_count": 50
        }
      ],
      "source": [
        "#Use the index 2 to access the number of calls element\n",
        "call_number=split_string[2]\n",
        "call_number"
      ],
      "id": "98103332"
    },
    {
      "cell_type": "markdown",
      "metadata": {
        "id": "etif7Kb3tEUC"
      },
      "source": [
        "So far so good!\n",
        "\n",
        "But as you can see the sentence order is not the same after the 7th element.\n",
        "\n",
        "To extract the average deal size you need to come up with a different approach. You can use the \"$\" sign to find the corresponding element.\n",
        "\n",
        "📌 Loop over the list to find the element that includes the \"$\" sign.\n",
        "\n",
        "📌 Then, use the .split() method to divide the string into the number and the $ sign."
      ],
      "id": "etif7Kb3tEUC"
    },
    {
      "cell_type": "code",
      "execution_count": 51,
      "metadata": {
        "id": "443a9ddf",
        "colab": {
          "base_uri": "https://localhost:8080/",
          "height": 35
        },
        "outputId": "4e25d7ff-aeac-4dff-8c6b-e797d9c03ae3"
      },
      "outputs": [
        {
          "output_type": "execute_result",
          "data": {
            "text/plain": [
              "'8'"
            ],
            "application/vnd.google.colaboratory.intrinsic+json": {
              "type": "string"
            }
          },
          "metadata": {},
          "execution_count": 51
        }
      ],
      "source": [
        "#Find the element with the \"$\" sign\n",
        "for i in split_string:\n",
        "  #Divide the number from it\n",
        "  if \"$\" in i:\n",
        "    average_deal_size=i.split(\"$\")[0]\n",
        "#Print the average deal size\n",
        "average_deal_size"
      ],
      "id": "443a9ddf"
    },
    {
      "cell_type": "markdown",
      "metadata": {
        "id": "1332df7e"
      },
      "source": [
        "Similarly, we can use the string \"dollars\" to extract the revenue, which is the element right before \"dollars\".\n",
        "\n",
        "📌 Use the .index() method to identify the index for the \"dollars\" element.\n",
        "\n",
        "📌 Then, use this index to specify and extract the revenue."
      ],
      "id": "1332df7e"
    },
    {
      "cell_type": "code",
      "execution_count": 52,
      "metadata": {
        "id": "a00945b0",
        "colab": {
          "base_uri": "https://localhost:8080/"
        },
        "outputId": "2bd5d7c5-7dc7-44b6-f52b-d8246aaea3f6"
      },
      "outputs": [
        {
          "output_type": "execute_result",
          "data": {
            "text/plain": [
              "7"
            ]
          },
          "metadata": {},
          "execution_count": 52
        }
      ],
      "source": [
        "#Find the index of element \"dollars\"\n",
        "dollars_index=split_string.index(\"dollars\")\n",
        "dollars_index"
      ],
      "id": "a00945b0"
    },
    {
      "cell_type": "code",
      "execution_count": 53,
      "metadata": {
        "id": "c663bd03",
        "colab": {
          "base_uri": "https://localhost:8080/"
        },
        "outputId": "052958a6-c0a7-4249-8d8a-a202463fb90f"
      },
      "outputs": [
        {
          "output_type": "execute_result",
          "data": {
            "text/plain": [
              "6"
            ]
          },
          "metadata": {},
          "execution_count": 53
        }
      ],
      "source": [
        "#Subtract one from the index to identify the index of the revenue element\n",
        "revenue_index=dollars_index-1\n",
        "revenue_index"
      ],
      "id": "c663bd03"
    },
    {
      "cell_type": "code",
      "execution_count": 54,
      "metadata": {
        "id": "2831e072",
        "colab": {
          "base_uri": "https://localhost:8080/",
          "height": 35
        },
        "outputId": "1e141fe9-3ec5-4e27-ed86-428add834074"
      },
      "outputs": [
        {
          "output_type": "execute_result",
          "data": {
            "text/plain": [
              "'2400'"
            ],
            "application/vnd.google.colaboratory.intrinsic+json": {
              "type": "string"
            }
          },
          "metadata": {},
          "execution_count": 54
        }
      ],
      "source": [
        "#Extract the revenue\n",
        "revenue=split_string[revenue_index]\n",
        "revenue"
      ],
      "id": "2831e072"
    },
    {
      "cell_type": "markdown",
      "metadata": {
        "id": "537ed4c2"
      },
      "source": [
        "Great! You extracted all necessary information.\n",
        "\n",
        "📌 Print the information and check the types of the data."
      ],
      "id": "537ed4c2"
    },
    {
      "cell_type": "code",
      "execution_count": 55,
      "metadata": {
        "id": "ace2c99f",
        "colab": {
          "base_uri": "https://localhost:8080/"
        },
        "outputId": "dbd75129-e33d-431a-c828-8fead2530379"
      },
      "outputs": [
        {
          "output_type": "stream",
          "name": "stdout",
          "text": [
            "Name: Ben\n",
            "Number of calls: 300\n",
            "Average deal size: 8\n",
            "Revenue: 2400\n"
          ]
        }
      ],
      "source": [
        "#Print out the extracted information\n",
        "print(\"Name:\",name)\n",
        "print(\"Number of calls:\",call_number)\n",
        "print(\"Average deal size:\" ,average_deal_size)\n",
        "print(\"Revenue:\",revenue)"
      ],
      "id": "ace2c99f"
    },
    {
      "cell_type": "code",
      "execution_count": 56,
      "metadata": {
        "id": "SwAyLOAInasY",
        "colab": {
          "base_uri": "https://localhost:8080/"
        },
        "outputId": "18199467-d7cc-4b73-fed3-f54c72da6ac2"
      },
      "outputs": [
        {
          "output_type": "stream",
          "name": "stdout",
          "text": [
            "Name: <class 'str'>\n",
            "Number of calls: <class 'str'>\n",
            "Average deal size: <class 'str'>\n",
            "Revenue: <class 'str'>\n"
          ]
        }
      ],
      "source": [
        "#Check the types\n",
        "print(\"Name:\",type(name))\n",
        "print(\"Number of calls:\",type(call_number))\n",
        "print(\"Average deal size:\" ,type(average_deal_size))\n",
        "print(\"Revenue:\",type(revenue))"
      ],
      "id": "SwAyLOAInasY"
    },
    {
      "cell_type": "markdown",
      "metadata": {
        "id": "08f5b5fd"
      },
      "source": [
        "As you can see, we have the type string for all the data, but the average deal size, number of calls, and the revenue need to be integers.\n",
        "\n",
        "📌 Convert the data using the int() function and check again."
      ],
      "id": "08f5b5fd"
    },
    {
      "cell_type": "code",
      "execution_count": 57,
      "metadata": {
        "id": "5f42e3f0"
      },
      "outputs": [],
      "source": [
        "#Convert the datatypes of average deal size, number of calls, and revenue\n",
        "average_deal_size=int(average_deal_size)\n",
        "call_number=int(call_number)\n",
        "revenue=int(revenue)"
      ],
      "id": "5f42e3f0"
    },
    {
      "cell_type": "code",
      "execution_count": 58,
      "metadata": {
        "id": "89dc6fa1",
        "colab": {
          "base_uri": "https://localhost:8080/"
        },
        "outputId": "a19e6680-1f33-4375-ead9-a400544580a5"
      },
      "outputs": [
        {
          "output_type": "stream",
          "name": "stdout",
          "text": [
            "Name: <class 'str'>\n",
            "Number of calls: <class 'int'>\n",
            "Average deal size: <class 'int'>\n",
            "Revenue: <class 'int'>\n"
          ]
        }
      ],
      "source": [
        "#Print out the information again\n",
        "print(\"Name:\",type(name))\n",
        "print(\"Number of calls:\",type(call_number))\n",
        "print(\"Average deal size:\" ,type(average_deal_size))\n",
        "print(\"Revenue:\",type(revenue))"
      ],
      "id": "89dc6fa1"
    },
    {
      "cell_type": "markdown",
      "metadata": {
        "id": "0b194713"
      },
      "source": [
        "Now, you need to apply all the methods and functions to the list that contains the different strings of all employees.\n",
        "\n",
        "📌 Create an empty lists for storing names, number of calls, average deal sizes, and revenues.\n",
        "\n",
        "📌 Use a for loop to iterate through the list with the whole data.\n",
        "\n",
        "📌 Print out the necessary information."
      ],
      "id": "0b194713"
    },
    {
      "cell_type": "code",
      "execution_count": 59,
      "metadata": {
        "id": "5a4aab7e"
      },
      "outputs": [],
      "source": [
        "#Create empty lists for the names, number of calls, average deal sizes, revenues\n",
        "names=[]\n",
        "call_numbers=[]\n",
        "average_deal_sizes=[]\n",
        "revenues=[]"
      ],
      "id": "5a4aab7e"
    },
    {
      "cell_type": "code",
      "execution_count": 79,
      "metadata": {
        "id": "2366069b",
        "colab": {
          "base_uri": "https://localhost:8080/"
        },
        "outputId": "1163dde5-17d6-4b6c-a75a-d1dda63b3905"
      },
      "outputs": [
        {
          "output_type": "stream",
          "name": "stdout",
          "text": [
            "Name: ['Ben', 'Omer', 'Karen', 'Celine', 'Sue', 'Bora', 'Rose', 'Ellen', 'Bob', 'Taylor,', 'Jude', 'Ben', 'Omer', 'Karen', 'Celine', 'Sue', 'Bora', 'Rose', 'Ellen', 'Bob', 'Taylor,', 'Jude']\n",
            "Number of calls: [300, 10, 500, 70, 100, 100, 600, 800, 200, 450, 80, 300, 10, 500, 70, 100, 100, 600, 800, 200, 450, 80]\n",
            "Average deal size: [8, 6, 24, 32, 5, 25, 25, 40, 15, 10, 12, 8, 6, 24, 32, 5, 25, 25, 40, 15, 10, 12]\n",
            "Revenue: [2400, 60, 12000, 2275, 500, 770, 4000, 6000, 800, 1200, 500, 2400, 60, 12000, 2275, 500, 770, 4000, 6000, 800, 1200, 500]\n"
          ]
        }
      ],
      "source": [
        "#Loop over the whole data\n",
        "for employee in lines:\n",
        "    #Clean the string\n",
        "    employee=employee.strip(\" \")\n",
        "    employee=employee.lower()\n",
        "    employee=employee.capitalize()\n",
        "\n",
        "    #Split the clean string\n",
        "    split_employee=employee.split(\" \")\n",
        "\n",
        "\n",
        "    #Extract the name\n",
        "    name=split_employee[0]\n",
        "    call_number=split_employee[2]\n",
        "\n",
        "    #Extract the average deal size\n",
        "    for i in split_employee:\n",
        "      if \"$\" in i:\n",
        "        average_deal_size=i\n",
        "    average_deal_size=average_deal_size.split(\"$\")[0]\n",
        "\n",
        "    #Extract the revenue\n",
        "    dollars_index=split_employee.index(\"dollars\")\n",
        "    revenue_index=dollars_index-1\n",
        "    revenue=split_employee[revenue_index]\n",
        "\n",
        "    #Convert to the correct data types\n",
        "    average_deal_size=int(average_deal_size)\n",
        "    call_number=int(call_number)\n",
        "    revenue=int(revenue)\n",
        "\n",
        "    #Append the information to the lists\n",
        "    names.append(name)\n",
        "    call_numbers.append(call_number)\n",
        "    average_deal_sizes.append(average_deal_size)\n",
        "    revenues.append(revenue)\n",
        "#Print out the information\n",
        "print(\"Name:\",names)\n",
        "print(\"Number of calls:\",call_numbers)\n",
        "print(\"Average deal size:\" ,average_deal_sizes)\n",
        "print(\"Revenue:\",revenues)\n"
      ],
      "id": "2366069b"
    },
    {
      "cell_type": "markdown",
      "metadata": {
        "id": "4d848787"
      },
      "source": [
        "Finally, you can make the process even easier and reusable by defining functions.\n",
        "\n",
        "📌 Define the function \"clean_extract\".\n",
        "\n",
        "📌 Use the retured values by assigning them to variables."
      ],
      "id": "4d848787"
    },
    {
      "cell_type": "code",
      "execution_count": 80,
      "metadata": {
        "id": "_ipfpGrirCs7"
      },
      "outputs": [],
      "source": [
        "#Create empty lists again\n",
        "names=[]\n",
        "call_numbers=[]\n",
        "average_deal_sizes=[]\n",
        "revenues=[]"
      ],
      "id": "_ipfpGrirCs7"
    },
    {
      "cell_type": "code",
      "execution_count": 81,
      "metadata": {
        "id": "tnFT5Fk2qu_x"
      },
      "outputs": [],
      "source": [
        "#Define a function to clean and extract the data\n",
        "def clean_extract(lines):\n",
        "\n",
        "  for employee in lines:\n",
        "\n",
        "    employee=employee.strip(\" \")\n",
        "    employee=employee.lower()\n",
        "    employee=employee.capitalize()\n",
        "\n",
        "    split_employee=employee.split(\" \")\n",
        "\n",
        "    name=split_employee[0]\n",
        "    call_number=split_employee[2]\n",
        "\n",
        "    for i in split_employee:\n",
        "      if \"$\" in i:\n",
        "        average_deal_size=i\n",
        "    average_deal_size=average_deal_size.split(\"$\")[0]\n",
        "\n",
        "    dollars_index=split_employee.index(\"dollars\")\n",
        "    revenue_index=dollars_index-1\n",
        "    revenue=split_employee[revenue_index]\n",
        "\n",
        "    average_deal_size=int(average_deal_size)\n",
        "    call_number=int(call_number)\n",
        "    revenue=int(revenue)\n",
        "\n",
        "    names.append(name)\n",
        "    call_numbers.append(call_number)\n",
        "    average_deal_sizes.append(average_deal_size)\n",
        "    revenues.append(revenue)\n",
        "\n",
        "  return names,call_numbers,average_deal_sizes,revenues"
      ],
      "id": "tnFT5Fk2qu_x"
    },
    {
      "cell_type": "code",
      "execution_count": 82,
      "metadata": {
        "id": "13b0fe6b"
      },
      "outputs": [],
      "source": [
        "#Assign returned values to variables\n",
        "names, call_numbers, average_deal_sizes, revenues = clean_extract(lines)"
      ],
      "id": "13b0fe6b"
    },
    {
      "cell_type": "code",
      "execution_count": 83,
      "metadata": {
        "id": "44e38957",
        "colab": {
          "base_uri": "https://localhost:8080/"
        },
        "outputId": "4fc4d049-afad-4b23-cda5-5eb2ee118a28"
      },
      "outputs": [
        {
          "output_type": "stream",
          "name": "stdout",
          "text": [
            "Names: ['Ben', 'Omer', 'Karen', 'Celine', 'Sue', 'Bora', 'Rose', 'Ellen', 'Bob', 'Taylor,', 'Jude']\n",
            "Number of calls: [300, 10, 500, 70, 100, 100, 600, 800, 200, 450, 80]\n",
            "Average deal sizes: [8, 6, 24, 32, 5, 25, 25, 40, 15, 10, 12]\n",
            "Revenues: [2400, 60, 12000, 2275, 500, 770, 4000, 6000, 800, 1200, 500]\n"
          ]
        }
      ],
      "source": [
        "#Print out the information\n",
        "print(\"Names:\",names)\n",
        "print(\"Number of calls:\",call_numbers)\n",
        "print(\"Average deal sizes:\" ,average_deal_sizes)\n",
        "print(\"Revenues:\",revenues)"
      ],
      "id": "44e38957"
    },
    {
      "cell_type": "markdown",
      "metadata": {
        "id": "26efe652"
      },
      "source": [
        "### Performance Analysis Report\n",
        "\n",
        "Now that you cleaned the string and extracted all the information using the function, you can create performance analysis report for the last month.\n",
        "\n",
        "📌 Assign IDs to each employee.\n",
        "\n",
        "📌 Create dictionaries.\n",
        "\n",
        "📌 Sort the dictionaries.\n",
        "\n",
        "\n"
      ],
      "id": "26efe652"
    },
    {
      "cell_type": "markdown",
      "metadata": {
        "id": "ZT7mAK3M5k3W"
      },
      "source": [
        "First, check how many employees there are and assign the IDs.\n",
        "\n",
        "📌 Use the len() and range() function.\n"
      ],
      "id": "ZT7mAK3M5k3W"
    },
    {
      "cell_type": "code",
      "execution_count": 84,
      "metadata": {
        "id": "f20ff52f",
        "colab": {
          "base_uri": "https://localhost:8080/"
        },
        "outputId": "7732c7a9-161c-450c-b40b-3f106c199f09"
      },
      "outputs": [
        {
          "output_type": "stream",
          "name": "stdout",
          "text": [
            "11\n"
          ]
        }
      ],
      "source": [
        "#Check the number of employees\n",
        "print(len(names))"
      ],
      "id": "f20ff52f"
    },
    {
      "cell_type": "code",
      "execution_count": 85,
      "metadata": {
        "id": "5c62caf8",
        "colab": {
          "base_uri": "https://localhost:8080/"
        },
        "outputId": "e2860bf5-caa6-497c-d800-01a8bc3d074f"
      },
      "outputs": [
        {
          "output_type": "stream",
          "name": "stdout",
          "text": [
            "[0, 1, 2, 3, 4, 5, 6, 7, 8, 9, 10]\n"
          ]
        }
      ],
      "source": [
        "#Generate IDs\n",
        "IDs=list(range(0,11))\n",
        "print(IDs)"
      ],
      "id": "5c62caf8"
    },
    {
      "cell_type": "code",
      "execution_count": 86,
      "metadata": {
        "id": "28cd8ce6",
        "colab": {
          "base_uri": "https://localhost:8080/"
        },
        "outputId": "d10e7af7-0967-4d14-d50c-b03297af07cf"
      },
      "outputs": [
        {
          "output_type": "execute_result",
          "data": {
            "text/plain": [
              "11"
            ]
          },
          "metadata": {},
          "execution_count": 86
        }
      ],
      "source": [
        "#Check the number of IDs\n",
        "len(IDs)"
      ],
      "id": "28cd8ce6"
    },
    {
      "cell_type": "markdown",
      "metadata": {
        "id": "NKP6Yoto6eqP"
      },
      "source": [
        "With the IDs ready, you need to assign the IDs to the employees.\n",
        "\n",
        "📌 Use the zip() function to pair the employee with the ID.\n",
        "\n",
        "📌 Convert the zip object into a dictionary."
      ],
      "id": "NKP6Yoto6eqP"
    },
    {
      "cell_type": "code",
      "execution_count": 87,
      "metadata": {
        "id": "7e56a43f",
        "colab": {
          "base_uri": "https://localhost:8080/"
        },
        "outputId": "74f802db-0600-48ab-eb22-e8d472258a2c"
      },
      "outputs": [
        {
          "output_type": "execute_result",
          "data": {
            "text/plain": [
              "{0: 'Ben',\n",
              " 1: 'Omer',\n",
              " 2: 'Karen',\n",
              " 3: 'Celine',\n",
              " 4: 'Sue',\n",
              " 5: 'Bora',\n",
              " 6: 'Rose',\n",
              " 7: 'Ellen',\n",
              " 8: 'Bob',\n",
              " 9: 'Taylor,',\n",
              " 10: 'Jude'}"
            ]
          },
          "metadata": {},
          "execution_count": 87
        }
      ],
      "source": [
        "#Pair the names with the IDs in a dictionary\n",
        "dictionary1=dict(zip(IDs,names))\n",
        "dictionary1"
      ],
      "id": "7e56a43f"
    },
    {
      "cell_type": "markdown",
      "metadata": {
        "id": "429d7b7f"
      },
      "source": [
        "Similarly, create a dictionary for the  employees and their revenues."
      ],
      "id": "429d7b7f"
    },
    {
      "cell_type": "code",
      "execution_count": 90,
      "metadata": {
        "id": "aa2c6560",
        "colab": {
          "base_uri": "https://localhost:8080/"
        },
        "outputId": "0752c389-7a5a-40e4-c5da-39c542fb5723"
      },
      "outputs": [
        {
          "output_type": "execute_result",
          "data": {
            "text/plain": [
              "{2400: 'Ben',\n",
              " 60: 'Omer',\n",
              " 12000: 'Karen',\n",
              " 2275: 'Celine',\n",
              " 500: 'Jude',\n",
              " 770: 'Bora',\n",
              " 4000: 'Rose',\n",
              " 6000: 'Ellen',\n",
              " 800: 'Bob',\n",
              " 1200: 'Taylor,'}"
            ]
          },
          "metadata": {},
          "execution_count": 90
        }
      ],
      "source": [
        "#Pair the names with the revenues\n",
        "dictionary2=dict(zip(revenues,names))\n",
        "dictionary2\n"
      ],
      "id": "aa2c6560"
    },
    {
      "cell_type": "markdown",
      "metadata": {
        "id": "Ou3ne5Vn76N_"
      },
      "source": [
        "Finally, you need to find the employees with the best and lowest performance.\n",
        "\n",
        "📌 Sort the dictionary using the sorted() function in ascending and descending order.\n"
      ],
      "id": "Ou3ne5Vn76N_"
    },
    {
      "cell_type": "code",
      "execution_count": 93,
      "metadata": {
        "id": "d348a929",
        "colab": {
          "base_uri": "https://localhost:8080/"
        },
        "outputId": "8319b8c0-399f-402c-dc7c-1beeeda1ac0d"
      },
      "outputs": [
        {
          "output_type": "stream",
          "name": "stdout",
          "text": [
            "Omer\n",
            "Jude\n",
            "Bora\n"
          ]
        }
      ],
      "source": [
        "#Find the lowest performing employees (ascending order)\n",
        "sorted_dictionary=sorted(dictionary2)[0:3]\n",
        "\n",
        "for i in sorted_dictionary:\n",
        "  print(dictionary2[i])"
      ],
      "id": "d348a929"
    },
    {
      "cell_type": "code",
      "execution_count": 95,
      "metadata": {
        "id": "3210f1ad",
        "colab": {
          "base_uri": "https://localhost:8080/"
        },
        "outputId": "af75e39f-8d37-487f-fe7b-c019f0b416f7"
      },
      "outputs": [
        {
          "output_type": "stream",
          "name": "stdout",
          "text": [
            "Karen\n",
            "Ellen\n",
            "Rose\n"
          ]
        }
      ],
      "source": [
        "#Find the best performing employees (descending order)\n",
        "sorted_dictionary=sorted(dictionary2,reverse=True)[0:3]\n",
        "\n",
        "for i in sorted_dictionary:\n",
        "  print(dictionary2[i])"
      ],
      "id": "3210f1ad"
    }
  ],
  "metadata": {
    "colab": {
      "provenance": [],
      "include_colab_link": true
    },
    "kernelspec": {
      "display_name": "Python 3",
      "language": "python",
      "name": "python3"
    },
    "language_info": {
      "codemirror_mode": {
        "name": "ipython",
        "version": 3
      },
      "file_extension": ".py",
      "mimetype": "text/x-python",
      "name": "python",
      "nbconvert_exporter": "python",
      "pygments_lexer": "ipython3",
      "version": "3.8.8"
    }
  },
  "nbformat": 4,
  "nbformat_minor": 5
}